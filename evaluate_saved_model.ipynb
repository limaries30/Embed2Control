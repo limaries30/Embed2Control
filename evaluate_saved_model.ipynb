{
 "cells": [
  {
   "cell_type": "code",
   "execution_count": 34,
   "metadata": {},
   "outputs": [
    {
     "data": {
      "text/plain": [
       "IncompatibleKeys(missing_keys=[], unexpected_keys=[])"
      ]
     },
     "execution_count": 34,
     "metadata": {},
     "output_type": "execute_result"
    }
   ],
   "source": [
    "import torch\n",
    "from torch.utils.data import random_split\n",
    "from torch.utils.data import DataLoader\n",
    "import matplotlib.pyplot as plt\n",
    "import random\n",
    "from datasets import *\n",
    "from e2c_model import E2C\n",
    "from train_e2c import evaluate\n",
    "model = E2C(1600,2,2,'planar_partial').cuda()\n",
    "model.load_state_dict(torch.load('result/planar_partial/log_check_valid/model_3000'))"
   ]
  },
  {
   "cell_type": "code",
   "execution_count": 35,
   "metadata": {},
   "outputs": [],
   "source": [
    "batch_size = 128\n",
    "propor = 3/4\n",
    "dataset = PlanarDataset('./data/data/planar_partial')\n",
    "train_set, test_set = dataset[:int(len(dataset) * propor)], dataset[int(len(dataset) * propor):]\n",
    "test_loader = DataLoader(test_set, batch_size=batch_size, shuffle=False, drop_last=False, num_workers=8)"
   ]
  },
  {
   "cell_type": "code",
   "execution_count": 36,
   "metadata": {},
   "outputs": [
    {
     "name": "stdout",
     "output_type": "stream",
     "text": [
      "State loss: 12.65210761933395\n",
      "Next state loss: 12.661921219078062\n"
     ]
    }
   ],
   "source": [
    "state_loss, next_state_loss = evaluate(model, test_loader)\n",
    "print ('State loss: ' + str(state_loss))\n",
    "print ('Next state loss: ' + str(next_state_loss))"
   ]
  },
  {
   "cell_type": "code",
   "execution_count": 67,
   "metadata": {},
   "outputs": [
    {
     "data": {
      "text/plain": [
       "<matplotlib.image.AxesImage at 0x7f8189169c18>"
      ]
     },
     "execution_count": 67,
     "metadata": {},
     "output_type": "execute_result"
    },
    {
     "data": {
      "image/png": "[encoded data removed]",
      "text/plain": [
       "<Figure size 432x288 with 2 Axes>"
      ]
     },
     "metadata": {},
     "output_type": "display_data"
    }
   ],
   "source": [
    "rand_idx = random.randint(0, len(test_set))\n",
    "x, u, x_next = test_set[rand_idx]\n",
    "with torch.no_grad():\n",
    "    x_next_pred = model.predict(x.unsqueeze(0).view(-1,1600).double().cuda(),\n",
    "                                torch.Tensor(u).unsqueeze(0).double().cuda())\n",
    "plt.show()\n",
    "f, axarr = plt.subplots(1,2)\n",
    "plt.setp(axarr, xticks=[], yticks=[])\n",
    "axarr[0].imshow(x_next.squeeze(), cmap='gray')\n",
    "axarr[1].imshow(x_next_pred.squeeze().view(40,40).cpu(), cmap='gray')"
   ]
  },
  {
   "cell_type": "code",
   "execution_count": null,
   "metadata": {},
   "outputs": [],
   "source": []
  }
 ],
 "metadata": {
  "kernelspec": {
   "display_name": "Python 3",
   "language": "python",
   "name": "python3"
  },
  "language_info": {
   "codemirror_mode": {
    "name": "ipython",
    "version": 3
   },
   "file_extension": ".py",
   "mimetype": "text/x-python",
   "name": "python",
   "nbconvert_exporter": "python",
   "pygments_lexer": "ipython3",
   "version": "3.6.8"
  }
 },
 "nbformat": 4,
 "nbformat_minor": 2
}
