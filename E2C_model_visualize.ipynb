{
 "cells": [
  {
   "cell_type": "code",
   "execution_count": 2,
   "id": "216954b6",
   "metadata": {},
   "outputs": [],
   "source": [
    "from datasets import *\n",
    "from torch.utils.data import DataLoader\n",
    "import json\n",
    "from PIL import Image\n",
    "import random\n",
    "from normal import NormalDistribution\n",
    "from e2c_model import E2C\n",
    "from torchvision.transforms import ToTensor\n",
    "import gym\n",
    "import copy\n",
    "import matplotlib.pyplot as plt"
   ]
  },
  {
   "cell_type": "code",
   "execution_count": 3,
   "id": "45d296bd",
   "metadata": {},
   "outputs": [],
   "source": [
    "def rgb2bw(img):\n",
    "    #thresh = 200\n",
    "    width = int(48*2)\n",
    "    height = 48\n",
    "    pil_image = Image.fromarray(img)\n",
    "    img_bw = pil_image.convert('L').resize((int(width/2),height)).point(lambda x: 0 if x < 128 else 255, '1')\n",
    "\n",
    "    return np.array(img_bw)"
   ]
  },
  {
   "cell_type": "code",
   "execution_count": 102,
   "id": "0f8091fd",
   "metadata": {},
   "outputs": [],
   "source": [
    "rt_path = './data/pendulum'\n",
    "with open(path.join(rt_path, 'data.json')) as f:\n",
    "    data = json.load(f)"
   ]
  },
  {
   "cell_type": "code",
   "execution_count": 103,
   "id": "c6dc77d7",
   "metadata": {},
   "outputs": [],
   "source": [
    "for sample in random.sample(data['samples'],1):\n",
    "    before = Image.open(os.path.join(rt_path, sample['before'])).convert('L').resize((GymPendulumDatasetV2.width,\n",
    "                                   GymPendulumDatasetV2.height)).point(lambda x: 0 if x<128 else 255, '1')\n",
    "    before_state = sample['before_state']\n",
    "    u = np.array(sample['control'])\n",
    "    after = Image.open(os.path.join(rt_path, sample['after'])).convert('L').resize((GymPendulumDatasetV2.width,\n",
    "                                   GymPendulumDatasetV2.height)).point(lambda x: 0 if x<128 else 255, '1')\n",
    "    after_state = sample['after_state']\n",
    "    break"
   ]
  },
  {
   "cell_type": "code",
   "execution_count": 104,
   "id": "6b7efa1e",
   "metadata": {},
   "outputs": [
    {
     "name": "stdout",
     "output_type": "stream",
     "text": [
      "before_angle = 0.894068\n",
      "[0.7051907]\n",
      "after_angle = 0.603704\n"
     ]
    },
    {
     "data": {
      "image/png": "[encoded data removed]",
      "text/plain": [
       "<Figure size 432x288 with 1 Axes>"
      ]
     },
     "metadata": {
      "needs_background": "light"
     },
     "output_type": "display_data"
    }
   ],
   "source": [
    "print('before_angle = %f' %before_state[0])\n",
    "plt.imshow(before)\n",
    "print(u)\n",
    "print('after_angle = %f' %after_state[0])"
   ]
  },
  {
   "cell_type": "code",
   "execution_count": 105,
   "id": "b63417d5",
   "metadata": {},
   "outputs": [
    {
     "data": {
      "text/plain": [
       "<matplotlib.image.AxesImage at 0x1828690e0a0>"
      ]
     },
     "execution_count": 105,
     "metadata": {},
     "output_type": "execute_result"
    },
    {
     "data": {
      "image/png": "[encoded data removed]",
      "text/plain": [
       "<Figure size 432x288 with 1 Axes>"
      ]
     },
     "metadata": {
      "needs_background": "light"
     },
     "output_type": "display_data"
    }
   ],
   "source": [
    "plt.imshow(after)"
   ]
  },
  {
   "cell_type": "code",
   "execution_count": 106,
   "id": "1db87a89-5b0d-4c31-ab94-6b414fd37d01",
   "metadata": {},
   "outputs": [
    {
     "name": "stdout",
     "output_type": "stream",
     "text": [
      "[255 255 255 255 255 255 255 255 255 255 255 255 255 255 255 255 255 255\n",
      " 255 255 255 255 255   0   0 255 255 255 255 255 255 255 255 255 255 255\n",
      " 255 255 255 255 255 255 255 255 255 255 255 255 255 255 255 255 255 255\n",
      " 255 255 255 255 255 255 255 255 255 255 255 255 255 255 255 255 255   0\n",
      "   0 255 255 255 255 255 255 255 255 255 255 255 255 255 255 255 255 255\n",
      " 255 255 255 255 255 255]\n"
     ]
    },
    {
     "data": {
      "image/png": "[encoded data removed]",
      "text/plain": [
       "<Figure size 432x288 with 1 Axes>"
      ]
     },
     "metadata": {
      "needs_background": "light"
     },
     "output_type": "display_data"
    }
   ],
   "source": [
    "before = Image.open(os.path.join(rt_path, sample['before']))\n",
    "before = Image.open(os.path.join(rt_path, sample['before'])).convert('L').point(lambda x: 0 if x<128 else 255)\n",
    "plt.imshow(before)\n",
    "print(np.array(before)[24])"
   ]
  },
  {
   "cell_type": "markdown",
   "id": "855dcbb4",
   "metadata": {},
   "source": [
    "## Model"
   ]
  },
  {
   "cell_type": "code",
   "execution_count": 4,
   "id": "4ef83838",
   "metadata": {},
   "outputs": [
    {
     "data": {
      "text/plain": [
       "E2C(\n",
       "  (encoder): PendulumEncoder(\n",
       "    (net): Sequential(\n",
       "      (0): Linear(in_features=4608, out_features=800, bias=True)\n",
       "      (1): BatchNorm1d(800, eps=1e-05, momentum=0.1, affine=True, track_running_stats=True)\n",
       "      (2): ReLU()\n",
       "      (3): Linear(in_features=800, out_features=800, bias=True)\n",
       "      (4): BatchNorm1d(800, eps=1e-05, momentum=0.1, affine=True, track_running_stats=True)\n",
       "      (5): ReLU()\n",
       "      (6): Linear(in_features=800, out_features=6, bias=True)\n",
       "    )\n",
       "  )\n",
       "  (decoder): PendulumDecoder(\n",
       "    (net): Sequential(\n",
       "      (0): Linear(in_features=3, out_features=800, bias=True)\n",
       "      (1): BatchNorm1d(800, eps=1e-05, momentum=0.1, affine=True, track_running_stats=True)\n",
       "      (2): ReLU()\n",
       "      (3): Linear(in_features=800, out_features=800, bias=True)\n",
       "      (4): BatchNorm1d(800, eps=1e-05, momentum=0.1, affine=True, track_running_stats=True)\n",
       "      (5): ReLU()\n",
       "      (6): Linear(in_features=800, out_features=4608, bias=True)\n",
       "      (7): Sigmoid()\n",
       "    )\n",
       "  )\n",
       "  (trans): PendulumTransition(\n",
       "    (net): Sequential(\n",
       "      (0): Linear(in_features=3, out_features=100, bias=True)\n",
       "      (1): BatchNorm1d(100, eps=1e-05, momentum=0.1, affine=True, track_running_stats=True)\n",
       "      (2): ReLU()\n",
       "      (3): Linear(in_features=100, out_features=100, bias=True)\n",
       "      (4): BatchNorm1d(100, eps=1e-05, momentum=0.1, affine=True, track_running_stats=True)\n",
       "      (5): ReLU()\n",
       "    )\n",
       "    (fc_A): Sequential(\n",
       "      (0): Linear(in_features=100, out_features=6, bias=True)\n",
       "      (1): Sigmoid()\n",
       "    )\n",
       "    (fc_B): Linear(in_features=100, out_features=3, bias=True)\n",
       "    (fc_o): Linear(in_features=100, out_features=3, bias=True)\n",
       "  )\n",
       ")"
      ]
     },
     "execution_count": 4,
     "metadata": {},
     "output_type": "execute_result"
    }
   ],
   "source": [
    "device = torch.device(\"cuda\")\n",
    "w = int(48*2)\n",
    "h = 48\n",
    "settings = {'planar': (1600, 2, 2), 'pendulum': (4608, 3, 1)}\n",
    "obs_dim, z_dim, u_dim = settings['pendulum']\n",
    "env_name = 'pendulum'\n",
    "model = E2C(obs_dim=obs_dim, z_dim=z_dim, u_dim=u_dim, env=env_name, device='cuda').to(device)\n",
    "model.load_state_dict(torch.load('./model/model_1000.pth'))\n",
    "model.eval()"
   ]
  },
  {
   "cell_type": "code",
   "execution_count": 108,
   "id": "95d51672",
   "metadata": {},
   "outputs": [],
   "source": [
    "# Transform PIL image to tensor \n",
    "# $ ToTensor()(PIL image)\n",
    "x = ToTensor()(before).view(-1, model.obs_dim).double().to(device)\n",
    "u = torch.FloatTensor(u).double().unsqueeze(0).to(model.device)\n",
    "# u = u.double().to(device)\n",
    "# u = torch.FloatTensor(u).to(model.device).double().unsqueeze(0)\n",
    "\n",
    "x_next = ToTensor()(after).view(-1, model.obs_dim).double().to(device)\n",
    "\n",
    "x_recon, x_next_pred, q_z, q_z_next_pred, q_z_next = model(x, u, x_next)"
   ]
  },
  {
   "cell_type": "code",
   "execution_count": 93,
   "id": "a63cdd8c",
   "metadata": {},
   "outputs": [],
   "source": [
    "x_recon = x_recon.detach().cpu().numpy()\n",
    "x = x.cpu().numpy()\n",
    "\n",
    "x_next_pred = x_next_pred.detach().cpu().numpy()\n",
    "x_next = x_next.cpu().numpy()"
   ]
  },
  {
   "cell_type": "code",
   "execution_count": 94,
   "id": "0e946b98",
   "metadata": {},
   "outputs": [
    {
     "data": {
      "text/plain": [
       "<matplotlib.image.AxesImage at 0x182837511c0>"
      ]
     },
     "execution_count": 94,
     "metadata": {},
     "output_type": "execute_result"
    },
    {
     "data": {
      "image/png": "[encoded data removed]",
      "text/plain": [
       "<Figure size 432x288 with 1 Axes>"
      ]
     },
     "metadata": {
      "needs_background": "light"
     },
     "output_type": "display_data"
    }
   ],
   "source": [
    "plt.imshow(x_recon.reshape(h,w))"
   ]
  },
  {
   "cell_type": "code",
   "execution_count": 95,
   "id": "fac9782e",
   "metadata": {},
   "outputs": [
    {
     "data": {
      "text/plain": [
       "<matplotlib.image.AxesImage at 0x1831f6e2e20>"
      ]
     },
     "execution_count": 95,
     "metadata": {},
     "output_type": "execute_result"
    },
    {
     "data": {
      "image/png": "[encoded data removed]",
      "text/plain": [
       "<Figure size 432x288 with 1 Axes>"
      ]
     },
     "metadata": {
      "needs_background": "light"
     },
     "output_type": "display_data"
    }
   ],
   "source": [
    "plt.imshow(x.reshape(h,w))"
   ]
  },
  {
   "cell_type": "code",
   "execution_count": 96,
   "id": "d891b6fb",
   "metadata": {},
   "outputs": [
    {
     "data": {
      "text/plain": [
       "<matplotlib.image.AxesImage at 0x182fb5e4310>"
      ]
     },
     "execution_count": 96,
     "metadata": {},
     "output_type": "execute_result"
    },
    {
     "data": {
      "image/png": "[encoded data removed]",
      "text/plain": [
       "<Figure size 432x288 with 1 Axes>"
      ]
     },
     "metadata": {
      "needs_background": "light"
     },
     "output_type": "display_data"
    }
   ],
   "source": [
    "plt.imshow(x_next_pred.reshape(h,w))"
   ]
  },
  {
   "cell_type": "code",
   "execution_count": 97,
   "id": "b042ba1c",
   "metadata": {},
   "outputs": [
    {
     "data": {
      "text/plain": [
       "<matplotlib.image.AxesImage at 0x182ecc47c70>"
      ]
     },
     "execution_count": 97,
     "metadata": {},
     "output_type": "execute_result"
    },
    {
     "data": {
      "image/png": "[encoded data removed]",
      "text/plain": [
       "<Figure size 432x288 with 1 Axes>"
      ]
     },
     "metadata": {
      "needs_background": "light"
     },
     "output_type": "display_data"
    }
   ],
   "source": [
    "plt.imshow(x_next.reshape(h,w))"
   ]
  },
  {
   "cell_type": "code",
   "execution_count": 98,
   "id": "d18e1f2c-a04e-407e-a33b-15f2ce1e402c",
   "metadata": {},
   "outputs": [
    {
     "name": "stdout",
     "output_type": "stream",
     "text": [
      "tensor([[-0.6289, -0.3006, -1.8760]], device='cuda:0',\n",
      "       grad_fn=<SplitBackward0>) tensor([[-5.0463, -6.0553, -3.0785]], device='cuda:0',\n",
      "       grad_fn=<SplitBackward0>)\n"
     ]
    }
   ],
   "source": [
    "x = ToTensor()(before).view(-1, model.obs_dim).double().to(device)\n",
    "mu, logvar = model.encode(x)\n",
    "print(mu, logvar)"
   ]
  },
  {
   "cell_type": "markdown",
   "id": "4080ea40",
   "metadata": {},
   "source": [
    "## Environment Experiment"
   ]
  },
  {
   "cell_type": "code",
   "execution_count": 64,
   "id": "8b6e9b12",
   "metadata": {},
   "outputs": [],
   "source": [
    "env = gym.make('Pendulum-v1')\n",
    "env = env.unwrapped\n",
    "env.reset()\n",
    "\n",
    "width, height = 48 * 2, 48\n",
    "true_x_history = []\n",
    "recon_x_history = []\n",
    "pred_x_history = []\n",
    "T = 5 # history length\n",
    "\n",
    "device = torch.device(\"cuda\")\n",
    "\n",
    "for i in range(T):\n",
    "    # cur_state = env.state\n",
    "    cur_img = env.render(mode = 'rgb_array') # return numpy.ndarray\n",
    "    cur_arr = rgb2bw(cur_img)\n",
    "    \n",
    "    action = np.random.uniform(-2, 2, size = 1)\n",
    "    _ = env.step(action)\n",
    "    \n",
    "    # next_state = env.state\n",
    "    next_img = env.render(mode = 'rgb_array') # return numpy.ndarray\n",
    "    next_arr = rgb2bw(next_img)\n",
    "    \n",
    "    _ = env.step(action)\n",
    "    \n",
    "    # nnext_state = env.state\n",
    "    nnext_img = env.render(mode = 'rgb_array') # return numpy.ndarray\n",
    "    nnext_arr = rgb2bw(nnext_img)\n",
    "    \n",
    "    cur_x = np.hstack((cur_arr, next_arr)).reshape((-1, width*height))\n",
    "    next_x = np.hstack((next_arr, nnext_arr)).reshape((-1, width*height))\n",
    "    \n",
    "    x = torch.tensor(cur_x, dtype=torch.float64).to(device)\n",
    "    x_next = torch.tensor(next_x, dtype=torch.float64).to(device)\n",
    "    u = u.double().to(device)\n",
    "    \n",
    "    x_recon, x_next_pred, q_z, q_z_next_pred, q_z_next = model(x, u, x_next)\n",
    "    \n",
    "    x_recon.view(w, h)\n",
    "    x_recon = x_recon.detach().cpu().numpy()\n",
    "    x_next_pred.view(w, h)\n",
    "    x_next_pred = x_next_pred.detach().cpu().numpy()\n",
    "    \n",
    "    true_x_history.append(np.hstack((cur_arr, next_arr)))\n",
    "    recon_x_history.append(x_recon)\n",
    "    pred_x_history.append(x_next_pred)\n",
    "    \n",
    "env.close()"
   ]
  },
  {
   "cell_type": "markdown",
   "id": "51bfcd3f",
   "metadata": {},
   "source": [
    "## Env Simulation"
   ]
  },
  {
   "cell_type": "code",
   "execution_count": 29,
   "id": "de7ebc05",
   "metadata": {},
   "outputs": [
    {
     "name": "stdout",
     "output_type": "stream",
     "text": [
      "mu & logvar =  tensor([[-1.0573, -0.9177,  0.6880]], device='cuda:0',\n",
      "       grad_fn=<SplitBackward0>) tensor([[-6.7221, -7.4727, -6.7218]], device='cuda:0',\n",
      "       grad_fn=<SplitBackward0>)\n",
      "z =  tensor([[-1.0956, -0.9245,  0.6320]], device='cuda:0', grad_fn=<AddBackward0>)\n"
     ]
    }
   ],
   "source": [
    "env = gym.make('Pendulum-v1')\n",
    "env = env.unwrapped # use this to change gym.env state manually\n",
    "env.reset()\n",
    "\n",
    "def rgb2bw(img):\n",
    "    #thresh = 200\n",
    "    width = int(48*2)\n",
    "    height = 48\n",
    "    pil_image = Image.fromarray(img)\n",
    "    img_bw = pil_image.convert('L').resize((int(width/2),height)).point(lambda x: 0 if x < 128 else 255, '1') # option '1' make image return bool value\n",
    "\n",
    "    return np.array(img_bw)\n",
    "\n",
    "device = torch.device(\"cuda\")\n",
    "\n",
    "# initialize model\n",
    "w = int(48*2)\n",
    "h = 48\n",
    "settings = {'planar': (1600, 2, 2), 'pendulum': (4608, 3, 1)}\n",
    "obs_dim, z_dim, u_dim = settings['pendulum']\n",
    "env_name = 'pendulum'\n",
    "model = E2C(obs_dim=obs_dim, z_dim=z_dim, u_dim=u_dim, env=env_name, device=\"cuda\").to(device)\n",
    "model.load_state_dict(torch.load('./model/model_1000.pth'))\n",
    "model.eval()\n",
    "\n",
    "u = np.random.uniform(-2,2,1)\n",
    "prev_img = rgb2bw(env.render(mode='rgb_array'))\n",
    "_ = env.step(u)\n",
    "cur_img = rgb2bw(env.render(mode='rgb_array'))\n",
    "\n",
    "start_img = Image.fromarray(np.hstack((prev_img, cur_img)))\n",
    "start_img = ToTensor()((start_img.convert('L').resize((w,h))).point(lambda x: 0 if x < 128 else 255, '1'))\n",
    "#print(start_img.shape)\n",
    "#print('start_img = ', start_img[0][24])\n",
    "start_img = start_img.view(-1, model.obs_dim).double().to(device)\n",
    "#print('start_img = ', start_img[0])\n",
    "#print(torch.sum(start_img))\n",
    "\n",
    "''' # wrong image processing\n",
    "(may be because, train was performend on image that has value (0 or 1),\n",
    "but this processing returns image value to be (0 or 255))\n",
    "\n",
    "start_img1 = np.hstack((prev_img, cur_img)).reshape(-1, model.obs_dim)\n",
    "#print(start_img[0][0])\n",
    "start_img1 = torch.FloatTensor(start_img1).double().to(device)\n",
    "#print('start_img1 = ', start_img1[0])  #output True to 255, don't know why. maybe due to 'point' part in function rgb2bw\n",
    "#print(torch.sum(start_img1))\n",
    "'''\n",
    "\n",
    "# To check whether model produces normal result, data and model are well matched \n",
    "mu_z, logvar_z = model.encode(start_img)\n",
    "print('mu & logvar = ', mu_z, logvar_z)\n",
    "z = model.reparam(mu_z, logvar_z)\n",
    "#z = mu_z\n",
    "print('z = ', z)\n",
    "# x_recon = model.decode(z)\n",
    "# plt.imshow(x_recon.cpu().detach().numpy().reshape(h,w))\n",
    "\n",
    "T = 20    # prediction length(not exact)\n",
    "env_imgs = [copy.deepcopy(prev_img), copy.deepcopy(cur_img)]\n",
    "us = np.zeros((T+1,1))\n",
    "us[0] = u\n",
    "\n",
    "for i in range(T):\n",
    "    u = np.random.uniform(-2,2,1)\n",
    "    us[i+1] = u\n",
    "    _ = env.step(u)\n",
    "    cur_img = rgb2bw(env.render(mode='rgb_array'))\n",
    "    env_imgs.append(copy.deepcopy(cur_img))\n",
    "\n",
    "# produce better performance when using first image to real image\n",
    "# rather than using reconstructed image from latent space\n",
    "#x = model.decode(z) # x_recon.shape = torch.Size([1, 4608])\n",
    "#x_recon = x.cpu().detach().numpy()[0]\n",
    "x = start_img\n",
    "original_img = x.cpu().detach().numpy()[0]\n",
    "\n",
    "predicted_imgs = [original_img]\n",
    "#predicted_imgs = [x_recon]\n",
    "for i in range(T+1):\n",
    "    u = us[i]\n",
    "    u = torch.FloatTensor(u).double().unsqueeze(0).to(model.device)\n",
    "    \n",
    "    x_next_pred = model.predict(x, u)\n",
    "    predicted_img = x_next_pred.cpu().detach().numpy()[0]\n",
    "    predicted_imgs.append(predicted_img)\n",
    "    \n",
    "    x = x_next_pred\n",
    "    \n",
    "env.close()"
   ]
  },
  {
   "cell_type": "code",
   "execution_count": 30,
   "id": "842b91cf",
   "metadata": {},
   "outputs": [
    {
     "data": {
      "image/png": "[encoded data removed]",
      "text/plain": [
       "<Figure size 720x720 with 22 Axes>"
      ]
     },
     "metadata": {
      "needs_background": "light"
     },
     "output_type": "display_data"
    }
   ],
   "source": [
    "# Real image\n",
    "plt.figure(figsize=(10,10))\n",
    "for i in range(T+2):\n",
    "    plt.subplot(5,5,i+1)\n",
    "    plt.imshow(env_imgs[i])"
   ]
  },
  {
   "cell_type": "code",
   "execution_count": 31,
   "id": "20f18334",
   "metadata": {},
   "outputs": [
    {
     "data": {
      "image/png": "[encoded data removed]",
      "text/plain": [
       "<Figure size 720x720 with 22 Axes>"
      ]
     },
     "metadata": {
      "needs_background": "light"
     },
     "output_type": "display_data"
    }
   ],
   "source": [
    "# Predcited image on latent space\n",
    "plt.figure(figsize=(10,10))\n",
    "for i in range(T+2):\n",
    "    plt.subplot(5,5,i+1)\n",
    "    plt.imshow(predicted_imgs[i].reshape(h,w)[:,:int(w/2)])"
   ]
  },
  {
   "cell_type": "code",
   "execution_count": 132,
   "id": "669b18fd-5306-4081-a3c3-2eb1df8f3fd2",
   "metadata": {},
   "outputs": [
    {
     "name": "stdout",
     "output_type": "stream",
     "text": [
      "o_t =  tensor([[ 0.1431,  0.0182, -0.0269]], device='cuda:0',\n",
      "       grad_fn=<AddmmBackward0>)\n"
     ]
    }
   ],
   "source": [
    "env = gym.make('Pendulum-v1')\n",
    "env = env.unwrapped # use this to change gym.env state manually\n",
    "env.reset()\n",
    "\n",
    "def rgb2bw(img):\n",
    "    #thresh = 200\n",
    "    width = int(48*2)\n",
    "    height = 48\n",
    "    pil_image = Image.fromarray(img)\n",
    "    img_bw = pil_image.convert('L').resize((int(width/2),height)).point(lambda x: 0 if x < 128 else 255, '1') # option '1' make image return bool value\n",
    "\n",
    "    return np.array(img_bw)\n",
    "\n",
    "u = np.random.uniform(-2,2,1)\n",
    "prev_img = rgb2bw(env.render(mode='rgb_array'))\n",
    "_ = env.step(u)\n",
    "cur_img = rgb2bw(env.render(mode='rgb_array'))\n",
    "\n",
    "start_img = Image.fromarray(np.hstack((prev_img, cur_img)))\n",
    "start_img = ToTensor()((start_img.convert('L').resize((w,h))).point(lambda x: 0 if x < 128 else 255, '1'))\n",
    "x = start_img.view(-1, model.obs_dim).double().to(device)\n",
    "\n",
    "mu, logvar = model.encode(x)\n",
    "z = model.reparam(mu, logvar)\n",
    "h_t = model.trans.net(z)\n",
    "o_t = model.trans.fc_o(h_t)\n",
    "print('o_t = ', o_t)\n",
    "\n",
    "env.close()"
   ]
  },
  {
   "cell_type": "code",
   "execution_count": null,
   "id": "d96351d5-fac7-4663-bf3b-409c6887bfe7",
   "metadata": {},
   "outputs": [],
   "source": []
  }
 ],
 "metadata": {
  "kernelspec": {
   "display_name": "Python 3 (ipykernel)",
   "language": "python",
   "name": "python3"
  },
  "language_info": {
   "codemirror_mode": {
    "name": "ipython",
    "version": 3
   },
   "file_extension": ".py",
   "mimetype": "text/x-python",
   "name": "python",
   "nbconvert_exporter": "python",
   "pygments_lexer": "ipython3",
   "version": "3.9.7"
  }
 },
 "nbformat": 4,
 "nbformat_minor": 5
}
